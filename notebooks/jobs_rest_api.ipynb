{
  "nbformat": 4,
  "nbformat_minor": 0,
  "metadata": {
    "colab": {
      "provenance": []
    },
    "kernelspec": {
      "name": "python3",
      "display_name": "Python 3"
    },
    "language_info": {
      "name": "python"
    }
  },
  "cells": [
    {
      "cell_type": "markdown",
      "source": [
        "# Introduction\n",
        "The goal of this script is to demonstrate dbt Cloud REST API capabilities, for running and leveraging Jobs and their metadata.\n",
        "\n",
        "Disclaimer :\n",
        "This is free and unencumbered software released into the public domain.\n",
        "\n",
        "Anyone is free to copy, modify, publish, use, compile, sell, or\n",
        "distribute this software, either in source code form or as a compiled\n",
        "binary, for any purpose, commercial or non-commercial, and by any\n",
        "means.\n",
        "\n",
        "In jurisdictions that recognize copyright laws, the author or authors\n",
        "of this software dedicate any and all copyright interest in the\n",
        "software to the public domain. We make this dedication for the benefit\n",
        "of the public at large and to the detriment of our heirs and\n",
        "successors. We intend this dedication to be an overt act of\n",
        "relinquishment in perpetuity of all present and future rights to this\n",
        "software under copyright law.\n",
        "\n",
        "THE SOFTWARE IS PROVIDED \"AS IS\", WITHOUT WARRANTY OF ANY KIND,\n",
        "EXPRESS OR IMPLIED, INCLUDING BUT NOT LIMITED TO THE WARRANTIES OF\n",
        "MERCHANTABILITY, FITNESS FOR A PARTICULAR PURPOSE AND NONINFRINGEMENT.\n",
        "IN NO EVENT SHALL THE AUTHORS BE LIABLE FOR ANY CLAIM, DAMAGES OR\n",
        "OTHER LIABILITY, WHETHER IN AN ACTION OF CONTRACT, TORT OR OTHERWISE,\n",
        "ARISING FROM, OUT OF OR IN CONNECTION WITH THE SOFTWARE OR THE USE OR\n",
        "OTHER DEALINGS IN THE SOFTWARE.\n",
        "\n",
        "For more information, please refer to <https://unlicense.org>"
      ],
      "metadata": {
        "id": "gedHCXFPGHSP"
      }
    },
    {
      "cell_type": "markdown",
      "source": [
        "### 1. Importing Librairies"
      ],
      "metadata": {
        "id": "9crtGUm9GSX5"
      }
    },
    {
      "cell_type": "code",
      "source": [
        "import requests\n",
        "import json\n",
        "import time\n",
        "from getpass import getpass"
      ],
      "metadata": {
        "id": "LqUVjQAhF98W"
      },
      "execution_count": null,
      "outputs": []
    },
    {
      "cell_type": "markdown",
      "source": [
        "### 2. Initiating Connection to the dbt Cloud using the API.\n",
        "\n",
        "The following two cells define the API token and account/project IDs for both source and target dbt Cloud environments. These credentials are essential for authentication and specifying which environments to work with. For security best practices, consider using environment variables or secure vaults to handle credentials.\n",
        "\n",
        "\n"
      ],
      "metadata": {
        "id": "jNfzg2STGT0R"
      }
    },
    {
      "cell_type": "code",
      "source": [
        "# Define parameters needed for API access\n",
        "dbt_api_token = getpass('Source API TOKEN:') # don't edit this, enter when prompter\n",
        "dbt_account_id = 70403103916174 #\n",
        "dbt_project_id = 70403103944286 # We might need it\n",
        "dbt_environment_id = 70403103945940 # We would not need it\n",
        "dbt_base_url = 'https://c1.us1.dbt.com'"
      ],
      "metadata": {
        "colab": {
          "base_uri": "https://localhost:8080/"
        },
        "id": "HHSnJURLGioe",
        "outputId": "4b1dbb53-4ac6-423e-de27-fbe881d60782"
      },
      "execution_count": null,
      "outputs": [
        {
          "name": "stdout",
          "output_type": "stream",
          "text": [
            "Source API TOKEN:··········\n"
          ]
        }
      ]
    },
    {
      "cell_type": "markdown",
      "source": [
        "### 3. Functions and helpers"
      ],
      "metadata": {
        "id": "LU8wWsJbH1lm"
      }
    },
    {
      "cell_type": "code",
      "execution_count": null,
      "metadata": {
        "id": "jO9H_0AToMRE"
      },
      "outputs": [],
      "source": [
        "# Helper function to set headers\n",
        "def set_headers(token):\n",
        "    return {\n",
        "        'Authorization': f'Token {token}',\n",
        "        'Content-Type': 'application/json'\n",
        "    }\n",
        "\n",
        "# 1) Run a dbt Job given a Job ID, return run_id\n",
        "def run_dbt_job(job_id):\n",
        "    url = f\"{dbt_base_url}/api/v2/accounts/{dbt_account_id}/jobs/{job_id}/run/\"\n",
        "    headers = set_headers(dbt_api_token)\n",
        "    payload = {\n",
        "        \"cause\": \"Triggered via API\"\n",
        "    }\n",
        "    response = requests.post(url, headers=headers, json=payload)\n",
        "    if response.status_code == 200:\n",
        "        run_id = response.json()['data']['id']\n",
        "        return run_id\n",
        "    else:\n",
        "        response.raise_for_status()\n",
        "\n",
        "# 2) a) Re-run a dbt Job using the API\n",
        "def rerun_dbt_job(job_id):\n",
        "    url = f\"{dbt_base_url}/api/v2/accounts/{dbt_account_id}/jobs/{job_id}/rerun/\"\n",
        "    headers = set_headers(dbt_api_token)\n",
        "    payload = {\n",
        "        \"cause\": \"Re-triggered via API\"\n",
        "    }\n",
        "    response = requests.post(url, headers=headers, json=payload)\n",
        "    if response.status_code == 200:\n",
        "        print(\"Job re-triggered successfully.\")\n",
        "    else:\n",
        "        response.raise_for_status()\n",
        "\n",
        "# 3) Given a run_id, return results_run.json and manifest.json\n",
        "def get_run_results(run_id):\n",
        "    url = f\"{dbt_base_url}/api/v2/accounts/{dbt_account_id}/runs/{run_id}/artifacts/\"\n",
        "    headers = set_headers(dbt_api_token)\n",
        "\n",
        "    # Fetching results_run.json\n",
        "    results_url = f\"{url}run_results.json\"\n",
        "    results_response = requests.get(results_url, headers=headers)\n",
        "    if results_response.status_code == 200:\n",
        "        results_run = results_response.json()\n",
        "    else:\n",
        "        results_response.raise_for_status()\n",
        "\n",
        "    # Fetching manifest.json\n",
        "    manifest_url = f\"{url}manifest.json\"\n",
        "    manifest_response = requests.get(manifest_url, headers=headers)\n",
        "    if manifest_response.status_code == 200:\n",
        "        manifest = manifest_response.json()\n",
        "    else:\n",
        "        manifest_response.raise_for_status()\n",
        "\n",
        "    file_url = f\"{url}compiled/analytics/models/marts/aggregates/agg_daily_returned_orders.sql\"\n",
        "    print(file_url)\n",
        "    file_response = requests.get(file_url, headers=headers)\n",
        "    if file_response.status_code == 200:\n",
        "      file_content = file_response.text\n",
        "    else:\n",
        "      file_response.raise_for_status()\n",
        "\n",
        "    return results_run, manifest, file_content\n",
        "\n",
        "\n",
        "\n",
        "\n",
        "# 4) Setup a new Job in project and environment defined, define the commands and return jobs_id\n",
        "def setup_new_job(job_name, commands):\n",
        "    url = f\"{dbt_base_url}/api/v2/accounts/{dbt_account_id}/jobs/\"\n",
        "    headers = set_headers(dbt_api_token)\n",
        "    job_data = {\n",
        "        \"account_id\": dbt_account_id,\n",
        "        \"project_id\": dbt_project_id,\n",
        "        \"environment_id\": dbt_environment_id,\n",
        "        \"name\": job_name,\n",
        "        \"execute_steps\": commands\n",
        "    }\n",
        "    response = requests.post(url, headers=headers, json=job_data)\n",
        "    if response.status_code == 201:\n",
        "        job_id = response.json()['data']['id']\n",
        "        return job_id\n",
        "    else:\n",
        "        response.raise_for_status()\n"
      ]
    },
    {
      "cell_type": "markdown",
      "source": [
        "### 4. Example usage of functions"
      ],
      "metadata": {
        "id": "28lseWoXIJ7m"
      }
    },
    {
      "cell_type": "markdown",
      "source": [
        "#### 4.1 Run a dbt Cloud Job"
      ],
      "metadata": {
        "id": "TSVYQROSIMfx"
      }
    },
    {
      "cell_type": "code",
      "source": [
        "job_id = 70403103960876  # Example job ID\n",
        "run_id = run_dbt_job(job_id)\n",
        "print(f\"Run ID: {run_id}\")\n"
      ],
      "metadata": {
        "colab": {
          "base_uri": "https://localhost:8080/"
        },
        "id": "jvC7HScGIRO4",
        "outputId": "96d486ab-4775-4c80-8019-5e66328e9c54"
      },
      "execution_count": null,
      "outputs": [
        {
          "output_type": "stream",
          "name": "stdout",
          "text": [
            "Run ID: 70403120875408\n"
          ]
        }
      ]
    },
    {
      "cell_type": "markdown",
      "source": [
        "#### 4.2 Re-run a dbt Job\n",
        "\n",
        "Use this endpoint to retry a failed run for a job from the point of failure, if the run failed. Otherwise trigger a new run. When this endpoint returns a successful response, a new run will be enqueued for the account. Users can poll the Get run endpoint to poll the run until it completes. After the run has completed, users can use the Get run artifact endpoint to download artifacts generated by the run.\n"
      ],
      "metadata": {
        "id": "Qy8tnmERIU7O"
      }
    },
    {
      "cell_type": "code",
      "source": [],
      "metadata": {
        "id": "cVM7tvYbikWr"
      },
      "execution_count": null,
      "outputs": []
    },
    {
      "cell_type": "code",
      "source": [
        "job_id = 70403103960876\n",
        "rerun_dbt_job(job_id)"
      ],
      "metadata": {
        "colab": {
          "base_uri": "https://localhost:8080/"
        },
        "id": "d7g-wLNad0Mq",
        "outputId": "068af7f9-f603-45c8-9613-b63f6eee4e6b"
      },
      "execution_count": null,
      "outputs": [
        {
          "output_type": "stream",
          "name": "stdout",
          "text": [
            "Job re-triggered successfully.\n"
          ]
        }
      ]
    },
    {
      "cell_type": "markdown",
      "source": [
        "#### 4.3 Get Manifest Data from a Given Run\n",
        "\n",
        "Get Metadata from a given run.\n"
      ],
      "metadata": {
        "id": "nCKX6JKrio3X"
      }
    },
    {
      "cell_type": "code",
      "source": [
        "run_id = 70403117749152\n",
        "results, manifest, file_content = get_run_results(run_id)\n",
        "#print(\"Results:\", results)\n",
        "#print(\"Manifest:\", manifest)\n",
        "print(\"File Content:\", file_content)"
      ],
      "metadata": {
        "id": "W5mcF8kDfAQx"
      },
      "execution_count": null,
      "outputs": []
    },
    {
      "cell_type": "markdown",
      "source": [
        "# Setup New Job"
      ],
      "metadata": {
        "id": "NiBJ7sc9L5CZ"
      }
    },
    {
      "cell_type": "code",
      "source": [
        "def get_last_run_id(account_id, job_id, api_token):\n",
        "    url = f\"https://c1.us1.dbt.com/api/v2/accounts/{account_id}/runs/\"\n",
        "    headers = {\"Authorization\": f\"Token {api_token}\"}\n",
        "    params = {\"job_definition_id\": job_id, \"order_by\": \"-id\", \"limit\": 1}\n",
        "\n",
        "    response = requests.get(url, headers=headers, params=params)\n",
        "    response.raise_for_status()\n",
        "\n",
        "    data = response.json()\n",
        "    if data[\"data\"]:\n",
        "        return data[\"data\"][0][\"id\"]\n",
        "    else:\n",
        "        return None"
      ],
      "metadata": {
        "id": "UVc4ExQb66Zi"
      },
      "execution_count": null,
      "outputs": []
    },
    {
      "cell_type": "code",
      "source": [
        "last_run_id = get_last_run_id(dbt_account_id,70403103917658, dbt_api_token)\n",
        "print(last_run_id)"
      ],
      "metadata": {
        "id": "X9i383sZ6-YP"
      },
      "execution_count": null,
      "outputs": []
    },
    {
      "cell_type": "code",
      "source": [
        "run = setup_new_job(\"Test\", \"dbt run --select\")"
      ],
      "metadata": {
        "id": "girUBcCZKzk6"
      },
      "execution_count": null,
      "outputs": []
    }
  ]
}